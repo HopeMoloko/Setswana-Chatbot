{
 "cells": [
  {
   "cell_type": "code",
   "execution_count": 24,
   "metadata": {},
   "outputs": [],
   "source": [
    "from chatterbot import ChatBot\n",
    "\n",
    "from chatterbot.trainers import ListTrainer"
   ]
  },
  {
   "cell_type": "code",
   "execution_count": 25,
   "metadata": {},
   "outputs": [],
   "source": [
    "\n",
    "chatbot = ChatBot(\"Sun Flower\",\n",
    "#                   storage_adapter='chatterbot.storage.SQLStorageAdapter',\n",
    "#                   logic_adapters=['chatterbot.logic.MathematicalEvaluation',\n",
    "#                     'chatterbot.logic.TimeLogicAdapter'],\n",
    "                  database_uri='sqlite:///database.sqlite3')\n",
    "\n",
    "\n"
   ]
  },
  {
   "cell_type": "code",
   "execution_count": 26,
   "metadata": {},
   "outputs": [
    {
     "name": "stdout",
     "output_type": "stream",
     "text": [
      "List Trainer: [####################] 100%\n"
     ]
    }
   ],
   "source": [
    "conversation = [\n",
    "    \"Dumelang\",\n",
    "    \"A ge!\",\n",
    "    \"O tlhotse jang?\",\n",
    "    \"Ke tlhotse sentle.\",\n",
    "    \"Go monate go go bona.\",\n",
    "    \"Kealeboga.\",\n",
    "    \"Go leboga nna.\"\n",
    "]\n",
    "\n",
    "trainer = ListTrainer(chatbot)\n",
    "\n",
    "trainer.train(conversation)"
   ]
  },
  {
   "cell_type": "code",
   "execution_count": 27,
   "metadata": {},
   "outputs": [
    {
     "name": "stdout",
     "output_type": "stream",
     "text": [
      "Dumelang\n"
     ]
    }
   ],
   "source": [
    "response = chatbot.get_response(\"Dumelang!\")\n",
    "print(response)"
   ]
  },
  {
   "cell_type": "code",
   "execution_count": 28,
   "metadata": {},
   "outputs": [
    {
     "name": "stdout",
     "output_type": "stream",
     "text": [
      "Dumelang\n",
      "A ge!\n",
      "Kealeboga\n",
      "Go leboga nna.\n",
      "Go monate go go bona.\n",
      "Kealeboga.\n"
     ]
    }
   ],
   "source": [
    "engineio = pyttsx3.init()\n",
    "while True:\n",
    "    try:\n",
    "        chatbot_input = chatbot.get_response(input())\n",
    "        \n",
    "        engineio.say(chatbot_input)\n",
    "        engineio.runAndWait()\n",
    "        print(chatbot_input)\n",
    "\n",
    "    except(KeyboardInterrupt, EOFError, SystemExit):\n",
    "        break"
   ]
  },
  {
   "cell_type": "code",
   "execution_count": null,
   "metadata": {},
   "outputs": [],
   "source": []
  }
 ],
 "metadata": {
  "kernelspec": {
   "display_name": "Python 3",
   "language": "python",
   "name": "python3"
  },
  "language_info": {
   "codemirror_mode": {
    "name": "ipython",
    "version": 3
   },
   "file_extension": ".py",
   "mimetype": "text/x-python",
   "name": "python",
   "nbconvert_exporter": "python",
   "pygments_lexer": "ipython3",
   "version": "3.7.2"
  }
 },
 "nbformat": 4,
 "nbformat_minor": 2
}
